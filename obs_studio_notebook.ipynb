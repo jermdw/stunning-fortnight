{
 "cells": [
  {
   "cell_type": "markdown",
   "metadata": {},
   "source": [
    "# OBS Studio Notebook"
   ]
  },
  {
   "cell_type": "code",
   "execution_count": null,
   "metadata": {},
   "outputs": [],
   "source": [
    "Official Colors\n",
    " \n",
    "\n",
    "Primary Blue\n",
    "\n",
    "Primary Blue\n",
    "Hex: #03244d\n",
    "R: 3\n",
    "G: 36\n",
    "B: 77\n",
    "\n",
    "Primary Orange\n",
    "\n",
    "Primary Orange\n",
    "Hex: #dd550c\n",
    "R: 221\n",
    "G: 85\n",
    "B: 12\n",
    "\n",
    "Secondary Blue\n",
    "\n",
    "Secondary Blue\n",
    "Hex: #496e9c\n",
    "R: 73\n",
    "G: 110\n",
    "B: 156\n",
    "\n",
    "Secondary Orange\n",
    "\n",
    "Secondary Orange\n",
    "Hex: #f68026\n",
    "R: 246\n",
    "G: 128\n",
    "B: 38"
   ]
  }
 ],
 "metadata": {
  "interpreter": {
   "hash": "5c01eb4580d9295859699d0aad50dbac402bd89a91e28dc1a6288a4f642429c8"
  },
  "kernelspec": {
   "display_name": "Python 3.9.6 64-bit ('base': conda)",
   "language": "python",
   "name": "python3"
  },
  "language_info": {
   "name": "python",
   "version": "3.9.6"
  },
  "orig_nbformat": 4
 },
 "nbformat": 4,
 "nbformat_minor": 2
}
